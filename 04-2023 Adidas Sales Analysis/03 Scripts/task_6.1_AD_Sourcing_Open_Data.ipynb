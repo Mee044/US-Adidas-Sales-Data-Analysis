{
 "cells": [
  {
   "cell_type": "markdown",
   "id": "80494cd1-87af-4f16-8533-d9474195742f",
   "metadata": {},
   "source": [
    "# Adidss Sales\n",
    "\n",
    "## Table of Contents\n",
    "### Import libraries and Data\n",
    "### Data Wrangling\n",
    "#### - Discovery\n",
    "#### - Cleaning\n",
    "#### - Exporting"
   ]
  },
  {
   "cell_type": "markdown",
   "id": "7ae4ea55-9d8b-4fe2-8b63-136d97e58bda",
   "metadata": {
    "tags": []
   },
   "source": [
    "### Import libraries and Data"
   ]
  },
  {
   "cell_type": "code",
   "execution_count": 1,
   "id": "e7c40ccf-eb22-4c7f-b56f-ce1221acfccc",
   "metadata": {},
   "outputs": [],
   "source": [
    "#import libraries\n",
    "import pandas as pd\n",
    "import numpy as np\n",
    "import os\n",
    "import datetime as dt"
   ]
  },
  {
   "cell_type": "code",
   "execution_count": 2,
   "id": "9f60edce-3b2d-4138-8a52-a16ad0137021",
   "metadata": {},
   "outputs": [],
   "source": [
    "#Create path\n",
    "path = r'/Users/rusamijan/04-2023 Adidas Sales Analysis'"
   ]
  },
  {
   "cell_type": "code",
   "execution_count": 3,
   "id": "77683bb7-9e38-4f5d-8195-cc917facb920",
   "metadata": {},
   "outputs": [],
   "source": [
    "#Import data\n",
    "df = pd.read_csv(os.path.join(path, '02 Data', 'Original Data', 'Adidas_US_Sales 2.csv'), index_col = False)"
   ]
  },
  {
   "cell_type": "markdown",
   "id": "ebef2303-8dba-4f8b-8ad0-cfd1273056c2",
   "metadata": {
    "tags": []
   },
   "source": [
    "### Data Wrangling"
   ]
  },
  {
   "cell_type": "markdown",
   "id": "77704d14-cb0b-4774-93ad-3dc698a30716",
   "metadata": {
    "tags": []
   },
   "source": [
    "#### Disovery"
   ]
  },
  {
   "cell_type": "code",
   "execution_count": 4,
   "id": "776d7ff9-82c8-4e83-8afa-b76187c5afd1",
   "metadata": {
    "tags": []
   },
   "outputs": [
    {
     "data": {
      "text/html": [
       "<div>\n",
       "<style scoped>\n",
       "    .dataframe tbody tr th:only-of-type {\n",
       "        vertical-align: middle;\n",
       "    }\n",
       "\n",
       "    .dataframe tbody tr th {\n",
       "        vertical-align: top;\n",
       "    }\n",
       "\n",
       "    .dataframe thead th {\n",
       "        text-align: right;\n",
       "    }\n",
       "</style>\n",
       "<table border=\"1\" class=\"dataframe\">\n",
       "  <thead>\n",
       "    <tr style=\"text-align: right;\">\n",
       "      <th></th>\n",
       "      <th>Retailer</th>\n",
       "      <th>Retailer ID</th>\n",
       "      <th>Invoice Date</th>\n",
       "      <th>Region</th>\n",
       "      <th>State</th>\n",
       "      <th>City</th>\n",
       "      <th>Product</th>\n",
       "      <th>Price per Unit</th>\n",
       "      <th>Units Sold</th>\n",
       "      <th>Total Sales</th>\n",
       "      <th>Operating Profit</th>\n",
       "      <th>Operating Margin</th>\n",
       "      <th>Sales Method</th>\n",
       "    </tr>\n",
       "  </thead>\n",
       "  <tbody>\n",
       "    <tr>\n",
       "      <th>0</th>\n",
       "      <td>Foot Locker</td>\n",
       "      <td>1185732</td>\n",
       "      <td>1/1/20</td>\n",
       "      <td>Northeast</td>\n",
       "      <td>New York</td>\n",
       "      <td>New York</td>\n",
       "      <td>Men's Street Footwear</td>\n",
       "      <td>50.0</td>\n",
       "      <td>1200.0</td>\n",
       "      <td>600000.0</td>\n",
       "      <td>300000.0</td>\n",
       "      <td>50%</td>\n",
       "      <td>In-store</td>\n",
       "    </tr>\n",
       "    <tr>\n",
       "      <th>1</th>\n",
       "      <td>Foot Locker</td>\n",
       "      <td>1185732</td>\n",
       "      <td>1/2/20</td>\n",
       "      <td>Northeast</td>\n",
       "      <td>New York</td>\n",
       "      <td>New York</td>\n",
       "      <td>Men's Athletic Footwear</td>\n",
       "      <td>50.0</td>\n",
       "      <td>1000.0</td>\n",
       "      <td>500000.0</td>\n",
       "      <td>150000.0</td>\n",
       "      <td>30%</td>\n",
       "      <td>In-store</td>\n",
       "    </tr>\n",
       "    <tr>\n",
       "      <th>2</th>\n",
       "      <td>Foot Locker</td>\n",
       "      <td>1185732</td>\n",
       "      <td>1/3/20</td>\n",
       "      <td>Northeast</td>\n",
       "      <td>New York</td>\n",
       "      <td>New York</td>\n",
       "      <td>Women's Street Footwear</td>\n",
       "      <td>40.0</td>\n",
       "      <td>1000.0</td>\n",
       "      <td>400000.0</td>\n",
       "      <td>140000.0</td>\n",
       "      <td>35%</td>\n",
       "      <td>In-store</td>\n",
       "    </tr>\n",
       "    <tr>\n",
       "      <th>3</th>\n",
       "      <td>Foot Locker</td>\n",
       "      <td>1185732</td>\n",
       "      <td>1/4/20</td>\n",
       "      <td>Northeast</td>\n",
       "      <td>New York</td>\n",
       "      <td>New York</td>\n",
       "      <td>Women's Athletic Footwear</td>\n",
       "      <td>45.0</td>\n",
       "      <td>850.0</td>\n",
       "      <td>382500.0</td>\n",
       "      <td>133875.0</td>\n",
       "      <td>35%</td>\n",
       "      <td>In-store</td>\n",
       "    </tr>\n",
       "    <tr>\n",
       "      <th>4</th>\n",
       "      <td>Foot Locker</td>\n",
       "      <td>1185732</td>\n",
       "      <td>1/5/20</td>\n",
       "      <td>Northeast</td>\n",
       "      <td>New York</td>\n",
       "      <td>New York</td>\n",
       "      <td>Men's Apparel</td>\n",
       "      <td>60.0</td>\n",
       "      <td>900.0</td>\n",
       "      <td>540000.0</td>\n",
       "      <td>162000.0</td>\n",
       "      <td>30%</td>\n",
       "      <td>In-store</td>\n",
       "    </tr>\n",
       "  </tbody>\n",
       "</table>\n",
       "</div>"
      ],
      "text/plain": [
       "      Retailer  Retailer ID Invoice Date     Region     State      City  \\\n",
       "0  Foot Locker      1185732       1/1/20  Northeast  New York  New York   \n",
       "1  Foot Locker      1185732       1/2/20  Northeast  New York  New York   \n",
       "2  Foot Locker      1185732       1/3/20  Northeast  New York  New York   \n",
       "3  Foot Locker      1185732       1/4/20  Northeast  New York  New York   \n",
       "4  Foot Locker      1185732       1/5/20  Northeast  New York  New York   \n",
       "\n",
       "                     Product  Price per Unit  Units Sold  Total Sales  \\\n",
       "0      Men's Street Footwear            50.0      1200.0     600000.0   \n",
       "1    Men's Athletic Footwear            50.0      1000.0     500000.0   \n",
       "2    Women's Street Footwear            40.0      1000.0     400000.0   \n",
       "3  Women's Athletic Footwear            45.0       850.0     382500.0   \n",
       "4              Men's Apparel            60.0       900.0     540000.0   \n",
       "\n",
       "   Operating Profit Operating Margin Sales Method  \n",
       "0          300000.0              50%     In-store  \n",
       "1          150000.0              30%     In-store  \n",
       "2          140000.0              35%     In-store  \n",
       "3          133875.0              35%     In-store  \n",
       "4          162000.0              30%     In-store  "
      ]
     },
     "execution_count": 4,
     "metadata": {},
     "output_type": "execute_result"
    }
   ],
   "source": [
    "df.head()"
   ]
  },
  {
   "cell_type": "code",
   "execution_count": 5,
   "id": "27fb2284-1336-4526-b8a0-43605f185cd1",
   "metadata": {},
   "outputs": [
    {
     "data": {
      "text/plain": [
       "(9648, 13)"
      ]
     },
     "execution_count": 5,
     "metadata": {},
     "output_type": "execute_result"
    }
   ],
   "source": [
    "df.shape"
   ]
  },
  {
   "cell_type": "code",
   "execution_count": 6,
   "id": "e874709f-b7cf-45c4-94f6-3d9ba1783f2d",
   "metadata": {},
   "outputs": [
    {
     "data": {
      "text/html": [
       "<div>\n",
       "<style scoped>\n",
       "    .dataframe tbody tr th:only-of-type {\n",
       "        vertical-align: middle;\n",
       "    }\n",
       "\n",
       "    .dataframe tbody tr th {\n",
       "        vertical-align: top;\n",
       "    }\n",
       "\n",
       "    .dataframe thead th {\n",
       "        text-align: right;\n",
       "    }\n",
       "</style>\n",
       "<table border=\"1\" class=\"dataframe\">\n",
       "  <thead>\n",
       "    <tr style=\"text-align: right;\">\n",
       "      <th></th>\n",
       "      <th>Retailer</th>\n",
       "      <th>Retailer ID</th>\n",
       "      <th>Invoice Date</th>\n",
       "      <th>Region</th>\n",
       "      <th>State</th>\n",
       "      <th>City</th>\n",
       "      <th>Product</th>\n",
       "      <th>Price per Unit</th>\n",
       "      <th>Units Sold</th>\n",
       "      <th>Total Sales</th>\n",
       "      <th>Operating Profit</th>\n",
       "      <th>Operating Margin</th>\n",
       "      <th>Sales Method</th>\n",
       "    </tr>\n",
       "  </thead>\n",
       "  <tbody>\n",
       "    <tr>\n",
       "      <th>0</th>\n",
       "      <td>Foot Locker</td>\n",
       "      <td>1185732</td>\n",
       "      <td>1/1/20</td>\n",
       "      <td>Northeast</td>\n",
       "      <td>New York</td>\n",
       "      <td>New York</td>\n",
       "      <td>Men's Street Footwear</td>\n",
       "      <td>50.0</td>\n",
       "      <td>1200.0</td>\n",
       "      <td>600000.0</td>\n",
       "      <td>300000.0</td>\n",
       "      <td>50%</td>\n",
       "      <td>In-store</td>\n",
       "    </tr>\n",
       "    <tr>\n",
       "      <th>1</th>\n",
       "      <td>Foot Locker</td>\n",
       "      <td>1185732</td>\n",
       "      <td>1/2/20</td>\n",
       "      <td>Northeast</td>\n",
       "      <td>New York</td>\n",
       "      <td>New York</td>\n",
       "      <td>Men's Athletic Footwear</td>\n",
       "      <td>50.0</td>\n",
       "      <td>1000.0</td>\n",
       "      <td>500000.0</td>\n",
       "      <td>150000.0</td>\n",
       "      <td>30%</td>\n",
       "      <td>In-store</td>\n",
       "    </tr>\n",
       "    <tr>\n",
       "      <th>2</th>\n",
       "      <td>Foot Locker</td>\n",
       "      <td>1185732</td>\n",
       "      <td>1/3/20</td>\n",
       "      <td>Northeast</td>\n",
       "      <td>New York</td>\n",
       "      <td>New York</td>\n",
       "      <td>Women's Street Footwear</td>\n",
       "      <td>40.0</td>\n",
       "      <td>1000.0</td>\n",
       "      <td>400000.0</td>\n",
       "      <td>140000.0</td>\n",
       "      <td>35%</td>\n",
       "      <td>In-store</td>\n",
       "    </tr>\n",
       "    <tr>\n",
       "      <th>3</th>\n",
       "      <td>Foot Locker</td>\n",
       "      <td>1185732</td>\n",
       "      <td>1/4/20</td>\n",
       "      <td>Northeast</td>\n",
       "      <td>New York</td>\n",
       "      <td>New York</td>\n",
       "      <td>Women's Athletic Footwear</td>\n",
       "      <td>45.0</td>\n",
       "      <td>850.0</td>\n",
       "      <td>382500.0</td>\n",
       "      <td>133875.0</td>\n",
       "      <td>35%</td>\n",
       "      <td>In-store</td>\n",
       "    </tr>\n",
       "    <tr>\n",
       "      <th>4</th>\n",
       "      <td>Foot Locker</td>\n",
       "      <td>1185732</td>\n",
       "      <td>1/5/20</td>\n",
       "      <td>Northeast</td>\n",
       "      <td>New York</td>\n",
       "      <td>New York</td>\n",
       "      <td>Men's Apparel</td>\n",
       "      <td>60.0</td>\n",
       "      <td>900.0</td>\n",
       "      <td>540000.0</td>\n",
       "      <td>162000.0</td>\n",
       "      <td>30%</td>\n",
       "      <td>In-store</td>\n",
       "    </tr>\n",
       "  </tbody>\n",
       "</table>\n",
       "</div>"
      ],
      "text/plain": [
       "      Retailer  Retailer ID Invoice Date     Region     State      City  \\\n",
       "0  Foot Locker      1185732       1/1/20  Northeast  New York  New York   \n",
       "1  Foot Locker      1185732       1/2/20  Northeast  New York  New York   \n",
       "2  Foot Locker      1185732       1/3/20  Northeast  New York  New York   \n",
       "3  Foot Locker      1185732       1/4/20  Northeast  New York  New York   \n",
       "4  Foot Locker      1185732       1/5/20  Northeast  New York  New York   \n",
       "\n",
       "                     Product  Price per Unit  Units Sold  Total Sales  \\\n",
       "0      Men's Street Footwear            50.0      1200.0     600000.0   \n",
       "1    Men's Athletic Footwear            50.0      1000.0     500000.0   \n",
       "2    Women's Street Footwear            40.0      1000.0     400000.0   \n",
       "3  Women's Athletic Footwear            45.0       850.0     382500.0   \n",
       "4              Men's Apparel            60.0       900.0     540000.0   \n",
       "\n",
       "   Operating Profit Operating Margin Sales Method  \n",
       "0          300000.0              50%     In-store  \n",
       "1          150000.0              30%     In-store  \n",
       "2          140000.0              35%     In-store  \n",
       "3          133875.0              35%     In-store  \n",
       "4          162000.0              30%     In-store  "
      ]
     },
     "execution_count": 6,
     "metadata": {},
     "output_type": "execute_result"
    }
   ],
   "source": [
    "df.head()"
   ]
  },
  {
   "cell_type": "code",
   "execution_count": 7,
   "id": "52384193-66e0-41db-aef9-eace54103349",
   "metadata": {
    "tags": []
   },
   "outputs": [
    {
     "name": "stdout",
     "output_type": "stream",
     "text": [
      "<class 'pandas.core.frame.DataFrame'>\n",
      "RangeIndex: 9648 entries, 0 to 9647\n",
      "Data columns (total 13 columns):\n",
      " #   Column            Non-Null Count  Dtype  \n",
      "---  ------            --------------  -----  \n",
      " 0   Retailer          9648 non-null   object \n",
      " 1   Retailer ID       9648 non-null   int64  \n",
      " 2   Invoice Date      9648 non-null   object \n",
      " 3   Region            9648 non-null   object \n",
      " 4   State             9648 non-null   object \n",
      " 5   City              9648 non-null   object \n",
      " 6   Product           9648 non-null   object \n",
      " 7   Price per Unit    9648 non-null   float64\n",
      " 8   Units Sold        9648 non-null   float64\n",
      " 9   Total Sales       9648 non-null   float64\n",
      " 10  Operating Profit  9648 non-null   float64\n",
      " 11  Operating Margin  9648 non-null   object \n",
      " 12  Sales Method      9648 non-null   object \n",
      "dtypes: float64(4), int64(1), object(8)\n",
      "memory usage: 980.0+ KB\n"
     ]
    }
   ],
   "source": [
    "df.info()"
   ]
  },
  {
   "cell_type": "code",
   "execution_count": 8,
   "id": "acfa8879-46cc-4554-aa3e-c33764edf354",
   "metadata": {},
   "outputs": [
    {
     "data": {
      "text/html": [
       "<div>\n",
       "<style scoped>\n",
       "    .dataframe tbody tr th:only-of-type {\n",
       "        vertical-align: middle;\n",
       "    }\n",
       "\n",
       "    .dataframe tbody tr th {\n",
       "        vertical-align: top;\n",
       "    }\n",
       "\n",
       "    .dataframe thead th {\n",
       "        text-align: right;\n",
       "    }\n",
       "</style>\n",
       "<table border=\"1\" class=\"dataframe\">\n",
       "  <thead>\n",
       "    <tr style=\"text-align: right;\">\n",
       "      <th></th>\n",
       "      <th>Retailer ID</th>\n",
       "      <th>Price per Unit</th>\n",
       "      <th>Units Sold</th>\n",
       "      <th>Total Sales</th>\n",
       "      <th>Operating Profit</th>\n",
       "    </tr>\n",
       "  </thead>\n",
       "  <tbody>\n",
       "    <tr>\n",
       "      <th>count</th>\n",
       "      <td>9.648000e+03</td>\n",
       "      <td>9648.000000</td>\n",
       "      <td>9648.000000</td>\n",
       "      <td>9648.000000</td>\n",
       "      <td>9648.000000</td>\n",
       "    </tr>\n",
       "    <tr>\n",
       "      <th>mean</th>\n",
       "      <td>1.173850e+06</td>\n",
       "      <td>45.216625</td>\n",
       "      <td>256.930037</td>\n",
       "      <td>93273.437500</td>\n",
       "      <td>34425.282131</td>\n",
       "    </tr>\n",
       "    <tr>\n",
       "      <th>std</th>\n",
       "      <td>2.636038e+04</td>\n",
       "      <td>14.705397</td>\n",
       "      <td>214.252030</td>\n",
       "      <td>141916.016727</td>\n",
       "      <td>54193.124141</td>\n",
       "    </tr>\n",
       "    <tr>\n",
       "      <th>min</th>\n",
       "      <td>1.128299e+06</td>\n",
       "      <td>7.000000</td>\n",
       "      <td>0.000000</td>\n",
       "      <td>0.000000</td>\n",
       "      <td>0.000000</td>\n",
       "    </tr>\n",
       "    <tr>\n",
       "      <th>25%</th>\n",
       "      <td>1.185732e+06</td>\n",
       "      <td>35.000000</td>\n",
       "      <td>106.000000</td>\n",
       "      <td>4254.500000</td>\n",
       "      <td>1922.000000</td>\n",
       "    </tr>\n",
       "    <tr>\n",
       "      <th>50%</th>\n",
       "      <td>1.185732e+06</td>\n",
       "      <td>45.000000</td>\n",
       "      <td>176.000000</td>\n",
       "      <td>9576.000000</td>\n",
       "      <td>4371.500000</td>\n",
       "    </tr>\n",
       "    <tr>\n",
       "      <th>75%</th>\n",
       "      <td>1.185732e+06</td>\n",
       "      <td>55.000000</td>\n",
       "      <td>350.000000</td>\n",
       "      <td>150000.000000</td>\n",
       "      <td>52063.000000</td>\n",
       "    </tr>\n",
       "    <tr>\n",
       "      <th>max</th>\n",
       "      <td>1.197831e+06</td>\n",
       "      <td>110.000000</td>\n",
       "      <td>1275.000000</td>\n",
       "      <td>825000.000000</td>\n",
       "      <td>390000.000000</td>\n",
       "    </tr>\n",
       "  </tbody>\n",
       "</table>\n",
       "</div>"
      ],
      "text/plain": [
       "        Retailer ID  Price per Unit   Units Sold    Total Sales  \\\n",
       "count  9.648000e+03     9648.000000  9648.000000    9648.000000   \n",
       "mean   1.173850e+06       45.216625   256.930037   93273.437500   \n",
       "std    2.636038e+04       14.705397   214.252030  141916.016727   \n",
       "min    1.128299e+06        7.000000     0.000000       0.000000   \n",
       "25%    1.185732e+06       35.000000   106.000000    4254.500000   \n",
       "50%    1.185732e+06       45.000000   176.000000    9576.000000   \n",
       "75%    1.185732e+06       55.000000   350.000000  150000.000000   \n",
       "max    1.197831e+06      110.000000  1275.000000  825000.000000   \n",
       "\n",
       "       Operating Profit  \n",
       "count       9648.000000  \n",
       "mean       34425.282131  \n",
       "std        54193.124141  \n",
       "min            0.000000  \n",
       "25%         1922.000000  \n",
       "50%         4371.500000  \n",
       "75%        52063.000000  \n",
       "max       390000.000000  "
      ]
     },
     "execution_count": 8,
     "metadata": {},
     "output_type": "execute_result"
    }
   ],
   "source": [
    "df.describe()"
   ]
  },
  {
   "cell_type": "markdown",
   "id": "87fb85f2-11d5-481b-9499-b6b101264290",
   "metadata": {
    "tags": []
   },
   "source": [
    "### Cleaning"
   ]
  },
  {
   "cell_type": "code",
   "execution_count": 9,
   "id": "22788e4a-c1d2-4d9b-baa4-7fb84ac57445",
   "metadata": {},
   "outputs": [
    {
     "data": {
      "text/plain": [
       "Retailer            0\n",
       "Retailer ID         0\n",
       "Invoice Date        0\n",
       "Region              0\n",
       "State               0\n",
       "City                0\n",
       "Product             0\n",
       "Price per Unit      0\n",
       "Units Sold          0\n",
       "Total Sales         0\n",
       "Operating Profit    0\n",
       "Operating Margin    0\n",
       "Sales Method        0\n",
       "dtype: int64"
      ]
     },
     "execution_count": 9,
     "metadata": {},
     "output_type": "execute_result"
    }
   ],
   "source": [
    "df.isna().sum()"
   ]
  },
  {
   "cell_type": "code",
   "execution_count": 10,
   "id": "e3af448e-b204-4939-af6d-1b84e661037f",
   "metadata": {},
   "outputs": [
    {
     "data": {
      "text/plain": [
       "Retailer             object\n",
       "Retailer ID           int64\n",
       "Invoice Date         object\n",
       "Region               object\n",
       "State                object\n",
       "City                 object\n",
       "Product              object\n",
       "Price per Unit      float64\n",
       "Units Sold          float64\n",
       "Total Sales         float64\n",
       "Operating Profit    float64\n",
       "Operating Margin     object\n",
       "Sales Method         object\n",
       "dtype: object"
      ]
     },
     "execution_count": 10,
     "metadata": {},
     "output_type": "execute_result"
    }
   ],
   "source": [
    "df.dtypes"
   ]
  },
  {
   "cell_type": "code",
   "execution_count": 11,
   "id": "66c14a1b-631e-4ed2-9d5c-5c3496ffd79d",
   "metadata": {
    "tags": []
   },
   "outputs": [],
   "source": [
    "#check duplicate values\n",
    "df_dup = df[df.duplicated()]"
   ]
  },
  {
   "cell_type": "code",
   "execution_count": 12,
   "id": "25788f0b-455f-4805-9eb9-7f8945e3128e",
   "metadata": {},
   "outputs": [],
   "source": [
    "df_clean = df_dup.drop_duplicates() #no dup"
   ]
  },
  {
   "cell_type": "code",
   "execution_count": 13,
   "id": "77717ce0-d0c1-49e4-9fce-2f63066c9ce2",
   "metadata": {},
   "outputs": [
    {
     "data": {
      "text/plain": [
       "(0, 13)"
      ]
     },
     "execution_count": 13,
     "metadata": {},
     "output_type": "execute_result"
    }
   ],
   "source": [
    "df_clean.shape"
   ]
  },
  {
   "cell_type": "markdown",
   "id": "c7030a98-c14b-4e52-9e15-94d8a94e7fd2",
   "metadata": {},
   "source": [
    "### Exporting"
   ]
  },
  {
   "cell_type": "code",
   "execution_count": 14,
   "id": "a7a9a842-19da-44db-aa4f-650fb48b51e3",
   "metadata": {},
   "outputs": [],
   "source": [
    "df.to_pickle(os.path.join(path, '02 Data','Prepared Data', 'ad_cleaned.pkl'))"
   ]
  },
  {
   "cell_type": "code",
   "execution_count": null,
   "id": "c0ada9a9-f11e-4d55-9422-f6d0150bc7ae",
   "metadata": {},
   "outputs": [],
   "source": []
  }
 ],
 "metadata": {
  "kernelspec": {
   "display_name": "Python 3 (ipykernel)",
   "language": "python",
   "name": "python3"
  },
  "language_info": {
   "codemirror_mode": {
    "name": "ipython",
    "version": 3
   },
   "file_extension": ".py",
   "mimetype": "text/x-python",
   "name": "python",
   "nbconvert_exporter": "python",
   "pygments_lexer": "ipython3",
   "version": "3.9.13"
  }
 },
 "nbformat": 4,
 "nbformat_minor": 5
}
